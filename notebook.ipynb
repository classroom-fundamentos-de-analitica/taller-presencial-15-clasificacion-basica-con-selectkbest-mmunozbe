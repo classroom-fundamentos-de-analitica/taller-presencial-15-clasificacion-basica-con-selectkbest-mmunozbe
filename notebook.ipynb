{
 "cells": [
  {
   "cell_type": "code",
   "execution_count": 33,
   "metadata": {},
   "outputs": [],
   "source": [
    "def load_data():\n",
    "\n",
    "    import pandas as pd\n",
    "\n",
    "    dataset = pd.read_csv(\"heart_disease.csv\")\n",
    "    y = dataset.pop(\"target\")\n",
    "    x = dataset.copy()\n",
    "    x[\"thal\"] = x[\"thal\"].map(\n",
    "        lambda x: \"normal\" if x not in [\"fixed\", \"fixed\", \"reversible\"] else x\n",
    "    )\n",
    "\n",
    "    return x, y\n",
    "\n",
    "\n",
    "x, y = load_data()\n",
    "x\n",
    "\n",
    "\n",
    "\n",
    "def make_train_test_split(x, y):\n",
    "\n",
    "    from sklearn.model_selection import train_test_split\n",
    "\n",
    "    (x_train, x_test, y_train, y_test) = train_test_split(\n",
    "        x,\n",
    "        y,\n",
    "        test_size=0.10,\n",
    "        random_state=0,\n",
    "    )\n",
    "    return x_train, x_test, y_train, y_test"
   ]
  },
  {
   "cell_type": "code",
   "execution_count": 34,
   "metadata": {},
   "outputs": [],
   "source": [
    "def make_pipeline(estimator):\n",
    "\n",
    "    from sklearn.compose import ColumnTransformer\n",
    "    from sklearn.feature_selection import SelectKBest, f_classif\n",
    "    from sklearn.pipeline import Pipeline\n",
    "    from sklearn.preprocessing import OneHotEncoder\n",
    "\n",
    "    transformer = ColumnTransformer(\n",
    "        transformers=[\n",
    "            (\"ohe\", OneHotEncoder(dtype=\"int\"), [\"thal\"]),\n",
    "        ],\n",
    "        remainder=\"passthrough\",\n",
    "    )\n",
    "\n",
    "    selectkbest = SelectKBest(score_func=f_classif)\n",
    "\n",
    "    pipeline = Pipeline(\n",
    "        steps=[\n",
    "            (\"tranformer\", transformer),\n",
    "            (\"selectkbest\", selectkbest),\n",
    "            (\"estimator\", estimator),\n",
    "        ],\n",
    "        verbose=False,\n",
    "    )\n",
    "\n",
    "    return pipeline"
   ]
  },
  {
   "cell_type": "code",
   "execution_count": 35,
   "metadata": {},
   "outputs": [],
   "source": [
    "def make_grid_search(estimator, param_grid, cv=5):\n",
    "\n",
    "    from sklearn.model_selection import GridSearchCV\n",
    "\n",
    "    grid_search = GridSearchCV(\n",
    "        estimator=estimator,\n",
    "        param_grid=param_grid,\n",
    "        cv=cv,\n",
    "        scoring=\"balanced_accuracy\",\n",
    "    )\n",
    "\n",
    "    return grid_search"
   ]
  },
  {
   "cell_type": "code",
   "execution_count": 36,
   "metadata": {},
   "outputs": [],
   "source": [
    "def save_estimator(estimator):\n",
    "\n",
    "    import pickle\n",
    "\n",
    "    with open(\"estimator.pickle\", \"wb\") as file:\n",
    "        pickle.dump(estimator, file)"
   ]
  },
  {
   "cell_type": "code",
   "execution_count": 37,
   "metadata": {},
   "outputs": [],
   "source": [
    "def load_estimator():\n",
    "\n",
    "    import os\n",
    "    import pickle\n",
    "\n",
    "    if not os.path.exists(\"estimator.pickle\"):\n",
    "        return None\n",
    "    with open(\"estimator.pickle\", \"rb\") as file:\n",
    "        estimator = pickle.load(file)"
   ]
  },
  {
   "cell_type": "code",
   "execution_count": 38,
   "metadata": {},
   "outputs": [],
   "source": [
    "def train_estimator(estimator):\n",
    "\n",
    "    from sklearn.linear_model import LinearRegression\n",
    "    from sklearn.metrics import mean_absolute_error\n",
    "\n",
    "    data, target = load_data()\n",
    "\n",
    "    x_train, x_test, y_train, y_test = make_train_test_split(\n",
    "        x=data,\n",
    "        y=target,\n",
    "    )\n",
    "\n",
    "    estimator.fit(x_train, y_train)\n",
    "\n",
    "    best_estimator = load_estimator()\n",
    "\n",
    "    if best_estimator is not None:\n",
    "\n",
    "        saved_mae = mean_absolute_error(\n",
    "            y_true=y_test, y_pred=best_estimator.predict(x_test)\n",
    "        )\n",
    "\n",
    "        current_mae = mean_absolute_error(\n",
    "            y_true=y_test, y_pred=estimator.predict(x_test)\n",
    "        )\n",
    "\n",
    "        if saved_mae < current_mae:\n",
    "            estimator = best_estimator\n",
    "\n",
    "    save_estimator(estimator)"
   ]
  },
  {
   "cell_type": "code",
   "execution_count": 39,
   "metadata": {},
   "outputs": [],
   "source": [
    "def train_logistic_regression():\n",
    "\n",
    "    from sklearn.linear_model import LogisticRegression\n",
    "\n",
    "    pipeline = make_pipeline(\n",
    "        estimator=LogisticRegression(max_iter=10000, solver=\"saga\"),\n",
    "    )\n",
    "\n",
    "    param_grid = {\n",
    "        \"selectkbest__k\": range(1, 11),\n",
    "        \"estimator__penalty\": [\"l1\", \"l2\"],\n",
    "        \"estimator__C\": [0.001, 0.01, 0.1, 1, 10, 100],\n",
    "    }\n",
    "\n",
    "    estimator = make_grid_search(\n",
    "        estimator=pipeline,\n",
    "        param_grid=param_grid,\n",
    "        cv=5,\n",
    "    )\n",
    "\n",
    "    train_estimator(estimator)"
   ]
  },
  {
   "cell_type": "code",
   "execution_count": 40,
   "metadata": {},
   "outputs": [],
   "source": [
    "def eval_metrics(\n",
    "    y_train_true,\n",
    "    y_test_true,\n",
    "    y_train_pred,\n",
    "    y_test_pred,\n",
    "):\n",
    "\n",
    "    from sklearn.metrics import accuracy_score, balanced_accuracy_score\n",
    "\n",
    "    accuracy_train = round(accuracy_score(y_train_true, y_train_pred), 4)\n",
    "    accuracy_test = round(accuracy_score(y_test_true, y_test_pred), 4)\n",
    "    balanced_accuracy_train = round(\n",
    "        balanced_accuracy_score(y_train_true, y_train_pred), 4\n",
    "    )\n",
    "    balanced_accuracy_test = round(balanced_accuracy_score(y_test_true, y_test_pred), 4)\n",
    "\n",
    "    return (\n",
    "        accuracy_train,\n",
    "        accuracy_test,\n",
    "        balanced_accuracy_train,\n",
    "        balanced_accuracy_test,\n",
    "    )"
   ]
  },
  {
   "cell_type": "code",
   "execution_count": 41,
   "metadata": {},
   "outputs": [],
   "source": [
    "def report(\n",
    "    estimator,\n",
    "    accuracy_train,\n",
    "    accuracy_test,\n",
    "    balanced_accuracy_train,\n",
    "    balanced_accuracy_test,\n",
    "):\n",
    "\n",
    "    print(estimator, \":\", sep=\"\")\n",
    "    print(\"-\" * 80)\n",
    "    print(f\"Balanced Accuracy: {balanced_accuracy_test} ({balanced_accuracy_train})\")\n",
    "    print(f\"         Accuracy: {accuracy_test} ({accuracy_train})\")"
   ]
  },
  {
   "cell_type": "code",
   "execution_count": 42,
   "metadata": {},
   "outputs": [],
   "source": [
    "train_logistic_regression()"
   ]
  },
  {
   "cell_type": "code",
   "execution_count": 43,
   "metadata": {},
   "outputs": [
    {
     "ename": "AttributeError",
     "evalue": "'NoneType' object has no attribute 'predict'",
     "output_type": "error",
     "traceback": [
      "\u001b[0;31m---------------------------------------------------------------------------\u001b[0m",
      "\u001b[0;31mAttributeError\u001b[0m                            Traceback (most recent call last)",
      "Cell \u001b[0;32mIn[43], line 41\u001b[0m\n\u001b[1;32m     20\u001b[0m     (\n\u001b[1;32m     21\u001b[0m         accuracy_train,\n\u001b[1;32m     22\u001b[0m         accuracy_test,\n\u001b[0;32m   (...)\u001b[0m\n\u001b[1;32m     29\u001b[0m         y_test_pred,\n\u001b[1;32m     30\u001b[0m     )\n\u001b[1;32m     32\u001b[0m     report(\n\u001b[1;32m     33\u001b[0m         estimator\u001b[38;5;241m.\u001b[39mbest_estimator_,\n\u001b[1;32m     34\u001b[0m         accuracy_train,\n\u001b[0;32m   (...)\u001b[0m\n\u001b[1;32m     37\u001b[0m         balanced_accuracy_test,\n\u001b[1;32m     38\u001b[0m     )\n\u001b[0;32m---> 41\u001b[0m \u001b[43mcheck_estimator\u001b[49m\u001b[43m(\u001b[49m\u001b[43m)\u001b[49m\n",
      "Cell \u001b[0;32mIn[43], line 17\u001b[0m, in \u001b[0;36mcheck_estimator\u001b[0;34m()\u001b[0m\n\u001b[1;32m     10\u001b[0m x_train, x_test, y_train_true, y_test_true \u001b[38;5;241m=\u001b[39m make_train_test_split(\n\u001b[1;32m     11\u001b[0m     x\u001b[38;5;241m=\u001b[39mdata,\n\u001b[1;32m     12\u001b[0m     y\u001b[38;5;241m=\u001b[39mtarget,\n\u001b[1;32m     13\u001b[0m )\n\u001b[1;32m     15\u001b[0m estimator \u001b[38;5;241m=\u001b[39m load_estimator()\n\u001b[0;32m---> 17\u001b[0m y_train_pred \u001b[38;5;241m=\u001b[39m \u001b[43mestimator\u001b[49m\u001b[38;5;241;43m.\u001b[39;49m\u001b[43mpredict\u001b[49m(x_train)\n\u001b[1;32m     18\u001b[0m y_test_pred \u001b[38;5;241m=\u001b[39m estimator\u001b[38;5;241m.\u001b[39mpredict(x_test)\n\u001b[1;32m     20\u001b[0m (\n\u001b[1;32m     21\u001b[0m     accuracy_train,\n\u001b[1;32m     22\u001b[0m     accuracy_test,\n\u001b[0;32m   (...)\u001b[0m\n\u001b[1;32m     29\u001b[0m     y_test_pred,\n\u001b[1;32m     30\u001b[0m )\n",
      "\u001b[0;31mAttributeError\u001b[0m: 'NoneType' object has no attribute 'predict'"
     ]
    }
   ],
   "source": [
    "def check_estimator():\n",
    "\n",
    "    import pickle\n",
    "\n",
    "    import pandas as pd\n",
    "    from sklearn.metrics import mean_absolute_error, mean_squared_error, r2_score\n",
    "\n",
    "    data, target = load_data()\n",
    "\n",
    "    x_train, x_test, y_train_true, y_test_true = make_train_test_split(\n",
    "        x=data,\n",
    "        y=target,\n",
    "    )\n",
    "\n",
    "    estimator = load_estimator()\n",
    "\n",
    "    y_train_pred = estimator.predict(x_train)\n",
    "    y_test_pred = estimator.predict(x_test)\n",
    "\n",
    "    (\n",
    "        accuracy_train,\n",
    "        accuracy_test,\n",
    "        balanced_accuracy_train,\n",
    "        balanced_accuracy_test,\n",
    "    ) = eval_metrics(\n",
    "        y_train_true,\n",
    "        y_test_true,\n",
    "        y_train_pred,\n",
    "        y_test_pred,\n",
    "    )\n",
    "\n",
    "    report(\n",
    "        estimator.best_estimator_,\n",
    "        accuracy_train,\n",
    "        accuracy_test,\n",
    "        balanced_accuracy_train,\n",
    "        balanced_accuracy_test,\n",
    "    )\n",
    "\n",
    "\n",
    "check_estimator()"
   ]
  },
  {
   "cell_type": "code",
   "execution_count": null,
   "metadata": {},
   "outputs": [],
   "source": [
    "def train_mlp_classifier():\n",
    "\n",
    "    from sklearn.neural_network import MLPClassifier\n",
    "\n",
    "    pipeline = make_pipeline(\n",
    "        estimator=MLPClassifier(max_iter=10000),\n",
    "    )\n",
    "\n",
    "    param_grid = {\n",
    "        \"selectkbest__k\": range(1, 11),\n",
    "        \"estimator__hidden_layer_sizes\": [(h,) for h in range(1, 11)],\n",
    "        \"estimator__learning_rate_init\": [0.0001, 0.001, 0.01, 0.1, 1.0],\n",
    "    }\n",
    "\n",
    "    estimator = make_grid_search(\n",
    "        estimator=pipeline,\n",
    "        param_grid=param_grid,\n",
    "        cv=5,\n",
    "    )\n",
    "\n",
    "    train_estimator(estimator)\n",
    "\n",
    "\n",
    "train_mlp_classifier()\n",
    "check_estimator()"
   ]
  },
  {
   "cell_type": "code",
   "execution_count": 44,
   "metadata": {},
   "outputs": [
    {
     "data": {
      "text/plain": [
       "NoneType"
      ]
     },
     "execution_count": 44,
     "metadata": {},
     "output_type": "execute_result"
    }
   ],
   "source": [
    "estimator = load_estimator()\n",
    "type(estimator)"
   ]
  }
 ],
 "metadata": {
  "kernelspec": {
   "display_name": "python",
   "language": "python",
   "name": "python3"
  },
  "language_info": {
   "codemirror_mode": {
    "name": "ipython",
    "version": 3
   },
   "file_extension": ".py",
   "mimetype": "text/x-python",
   "name": "python",
   "nbconvert_exporter": "python",
   "pygments_lexer": "ipython3",
   "version": "3.11.8"
  }
 },
 "nbformat": 4,
 "nbformat_minor": 2
}
